{
 "cells": [
  {
   "cell_type": "markdown",
   "metadata": {},
   "source": [
    "# JULIA MPI First Example: pi computaton"
   ]
  },
  {
   "cell_type": "markdown",
   "metadata": {},
   "source": [
    "My first example was to reproduce <a href=\"http://www.mcs.anl.gov/research/projects/mpi/tutorial/mpiexmpl/src/pi/C/solution.html\">\n",
    "the classic mypi </a> in the notebook"
   ]
  },
  {
   "cell_type": "code",
   "execution_count": 7,
   "metadata": {},
   "outputs": [],
   "source": [
    "using MPIClusterManagers,MPI, Distributed"
   ]
  },
  {
   "cell_type": "code",
   "execution_count": 8,
   "metadata": {},
   "outputs": [
    {
     "data": {
      "text/plain": [
       "10-element Vector{Int64}:\n",
       "  2\n",
       "  3\n",
       "  4\n",
       "  5\n",
       "  6\n",
       "  7\n",
       "  8\n",
       "  9\n",
       " 10\n",
       " 11"
      ]
     },
     "execution_count": 8,
     "metadata": {},
     "output_type": "execute_result"
    }
   ],
   "source": [
    "manager=MPIWorkerManager(10)\n",
    "addprocs(manager)"
   ]
  },
  {
   "cell_type": "code",
   "execution_count": 11,
   "metadata": {},
   "outputs": [],
   "source": [
    "nprocs()\n",
    "@mpi_do manager using MPI"
   ]
  },
  {
   "cell_type": "code",
   "execution_count": 12,
   "metadata": {},
   "outputs": [],
   "source": [
    "@mpi_do manager comm = MPI.COMM_WORLD\n",
    "#\n",
    "# Enter number of intervals, and tell every processor\n",
    "# Traditional MPI would do this with a BCAST\n",
    " @mpi_do manager n = rand()"
   ]
  },
  {
   "cell_type": "code",
   "execution_count": 14,
   "metadata": {},
   "outputs": [
    {
     "name": "stdout",
     "output_type": "stream",
     "text": [
      "      From worker 7:\t0.7406074814696212\n",
      "      From worker 4:\t0.040827179178438366\n",
      "      From worker 10:\t0.5515707242437361\n",
      "      From worker 11:\t0.9938286487567941\n",
      "      From worker 3:\t0.08258105202520172\n",
      "      From worker 6:\t0.25095230155615667\n",
      "      From worker 5:\t0.6302917747226593\n",
      "      From worker 2:\t0.29662265656751996\n",
      "      From worker 9:\t0.6856460982146318\n",
      "      From worker 8:\t0.6553394665867878\n"
     ]
    }
   ],
   "source": [
    "# Let's see if the processors got it\n",
    "@mpi_do manager println(n)"
   ]
  },
  {
   "cell_type": "code",
   "execution_count": 15,
   "metadata": {},
   "outputs": [
    {
     "name": "stdout",
     "output_type": "stream",
     "text": [
      "      From worker 7:\t5\n",
      "      From worker 4:\t2\n",
      "      From worker 6:\t4\n",
      "      From worker 11:\t9\n",
      "      From worker 9:\t7\n",
      "      From worker 10:\t8\n",
      "      From worker 8:\t6\n",
      "      From worker 2:\t0\n",
      "      From worker 5:\t3\n",
      "      From worker 3:\t1\n"
     ]
    }
   ],
   "source": [
    "# my MPI id\n",
    "@mpi_do manager myid = MPI.Comm_rank(comm)\n",
    "@mpi_do manager println(myid)"
   ]
  },
  {
   "cell_type": "code",
   "execution_count": 16,
   "metadata": {},
   "outputs": [
    {
     "name": "stdout",
     "output_type": "stream",
     "text": [
      "      From worker 4:\t10\n",
      "      From worker 8:\t10\n",
      "      From worker 5:\t10\n",
      "      From worker 7:\t10\n",
      "      From worker 2:\t10\n",
      "      From worker 9:\t10\n",
      "      From worker 6:\t10\n",
      "      From worker 11:\t10\n",
      "      From worker 10:\t10\n",
      "      From worker 3:\t10\n"
     ]
    }
   ],
   "source": [
    "# Get the number of processors\n",
    "@mpi_do manager np = MPI.Comm_size(comm)\n",
    "@mpi_do manager println(np)"
   ]
  },
  {
   "cell_type": "markdown",
   "metadata": {},
   "source": [
    "Compute $\\int_0^1 4/(1+x^2) dx= 4 atan(x)]_0^1$ which evaluates to $\\pi$"
   ]
  },
  {
   "cell_type": "code",
   "execution_count": 10,
   "metadata": {},
   "outputs": [
    {
     "name": "stderr",
     "output_type": "stream",
     "text": [
      "┌ Info: Precompiling Interact [c601a237-2ae4-5e1e-952c-7a85b0c7eef1]\n",
      "└ @ Base loading.jl:1189\n"
     ]
    },
    {
     "data": {
      "text/html": [
       "    <script class='js-collapse-script'>\n",
       "        var curMatch =\n",
       "            window.location.href\n",
       "            .match(/(.*?)\\/notebooks\\/.*\\.ipynb/);\n",
       "\n",
       "        curMatch = curMatch ||\n",
       "            window.location.href\n",
       "            .match(/(.*?)\\/apps\\/.*\\.ipynb/);\n",
       "\n",
       "        if ( curMatch ) {\n",
       "            $('head').append('<base href=\"' + curMatch[1] + '/\">');\n",
       "        }\n",
       "    </script>\n"
      ],
      "text/plain": [
       "HTML{String}(\"    <script class='js-collapse-script'>\\n        var curMatch =\\n            window.location.href\\n            .match(/(.*?)\\\\/notebooks\\\\/.*\\\\.ipynb/);\\n\\n        curMatch = curMatch ||\\n            window.location.href\\n            .match(/(.*?)\\\\/apps\\\\/.*\\\\.ipynb/);\\n\\n        if ( curMatch ) {\\n            \\$('head').append('<base href=\\\"' + curMatch[1] + '/\\\">');\\n        }\\n    </script>\\n\")"
      ]
     },
     "metadata": {},
     "output_type": "display_data"
    },
    {
     "data": {
      "text/html": [
       "<script class='js-collapse-script' src='/assetserver/00368592c11ecb190ee1c0ddf27ce3f1255469c1-assets/webio/dist/bundle.js'></script>"
      ],
      "text/plain": [
       "HTML{String}(\"<script class='js-collapse-script' src='/assetserver/00368592c11ecb190ee1c0ddf27ce3f1255469c1-assets/webio/dist/bundle.js'></script>\")"
      ]
     },
     "metadata": {},
     "output_type": "display_data"
    },
    {
     "data": {
      "text/html": [
       "<script class='js-collapse-script' src='/assetserver/00368592c11ecb190ee1c0ddf27ce3f1255469c1-assets/providers/ijulia_setup.js'></script>"
      ],
      "text/plain": [
       "HTML{String}(\"<script class='js-collapse-script' src='/assetserver/00368592c11ecb190ee1c0ddf27ce3f1255469c1-assets/providers/ijulia_setup.js'></script>\")"
      ]
     },
     "metadata": {},
     "output_type": "display_data"
    },
    {
     "data": {
      "text/html": [
       "  <script class='js-collapse-script'>\n",
       "    $('.js-collapse-script').parent('.output_subarea').css('padding', '0');\n",
       "  </script>\n"
      ],
      "text/plain": [
       "HTML{String}(\"  <script class='js-collapse-script'>\\n    \\$('.js-collapse-script').parent('.output_subarea').css('padding', '0');\\n  </script>\\n\")"
      ]
     },
     "metadata": {},
     "output_type": "display_data"
    }
   ],
   "source": [
    "using Interact"
   ]
  },
  {
   "cell_type": "code",
   "execution_count": 22,
   "metadata": {},
   "outputs": [
    {
     "name": "stdout",
     "output_type": "stream",
     "text": [
      "      From worker 4:\tmypi = 0.3141592753589915\n",
      "      From worker 2:\tmypi = 0.31415928335899374\n",
      "      From worker 5:\tmypi = 0.3141592713589613\n",
      "      From worker 11:\tmypi = 0.31415924735898243\n",
      "      From worker 7:\tmypi = 0.31415926335898003\n",
      "      From worker 10:\tmypi = 0.31415925135898265\n",
      "      From worker 6:\tmypi = 0.31415926735896743\n",
      "      From worker 8:\tmypi = 0.3141592593589629\n",
      "      From worker 9:\tmypi = 0.3141592553590055\n",
      "      From worker 3:\tmypi = 0.31415927935894233\n"
     ]
    }
   ],
   "source": [
    "@mpi_do manager @show mypi"
   ]
  },
  {
   "cell_type": "code",
   "execution_count": 49,
   "metadata": {},
   "outputs": [
    {
     "name": "stdout",
     "output_type": "stream",
     "text": [
      "      From worker 2:\t-2.3092638912203256e-14\n",
      "  0.053561 seconds (1.73 k allocations: 146.625 KiB)\n"
     ]
    }
   ],
   "source": [
    "@time @mpi_do manager mypi, our_π = let\n",
    "    n = 50_000_000\n",
    "    comm = MPI.COMM_WORLD\n",
    "    s = 0.0\n",
    "    for i = MPI.Comm_rank(comm) + 1 : MPI.Comm_size(comm) : n \n",
    "        x = (i - .5)/n \n",
    "        s += 4/(1 + x^2) \n",
    "    end\n",
    "    mypi = s/n\n",
    "    our_π = MPI.Reduce(mypi, MPI.SUM, 0, comm)\n",
    "    if myid==0\n",
    "        println(our_π - π) \n",
    "    end\n",
    "    mypi, our_π\n",
    "end"
   ]
  },
  {
   "cell_type": "code",
   "execution_count": 50,
   "metadata": {},
   "outputs": [
    {
     "name": "stdout",
     "output_type": "stream",
     "text": [
      "      From worker 4:\tour_π = nothing\n",
      "      From worker 5:\tour_π = nothing\n",
      "      From worker 7:\tour_π = nothing\n",
      "      From worker 6:\tour_π = nothing\n",
      "      From worker 2:\tour_π = 3.14159265358977\n",
      "      From worker 8:\tour_π = nothing\n",
      "      From worker 9:\tour_π = nothing\n",
      "      From worker 3:\tour_π = nothing\n",
      "      From worker 10:\tour_π = nothing\n",
      "      From worker 11:\tour_π = nothing\n"
     ]
    }
   ],
   "source": [
    "@mpi_do manager @show our_π"
   ]
  },
  {
   "cell_type": "code",
   "execution_count": 54,
   "metadata": {},
   "outputs": [
    {
     "data": {
      "text/plain": [
       "3.14159265358977"
      ]
     },
     "execution_count": 54,
     "metadata": {},
     "output_type": "execute_result"
    }
   ],
   "source": [
    "our_π =  @fetchfrom 2 our_π"
   ]
  },
  {
   "cell_type": "code",
   "execution_count": 55,
   "metadata": {},
   "outputs": [
    {
     "data": {
      "text/plain": [
       "3.14159265358977"
      ]
     },
     "execution_count": 55,
     "metadata": {},
     "output_type": "execute_result"
    }
   ],
   "source": [
    "our_π"
   ]
  },
  {
   "cell_type": "code",
   "execution_count": 57,
   "metadata": {},
   "outputs": [
    {
     "data": {
      "text/plain": [
       "f_serial2 (generic function with 1 method)"
      ]
     },
     "execution_count": 57,
     "metadata": {},
     "output_type": "execute_result"
    }
   ],
   "source": [
    "function f_serial()\n",
    "    n = 50_000_000\n",
    "    h = 1/n\n",
    "    our_π = 0.0\n",
    "    for i = 0:h:1\n",
    "        our_π += 4/(1 + i^2)\n",
    "    end\n",
    "    our_π*h\n",
    "end\n",
    "\n",
    "function f_serial2(n)\n",
    "    our_π = 0.0\n",
    "    for i = 1:n\n",
    "        x = (i - 0.5)/n\n",
    "        our_π += 4/(1 + x^2)\n",
    "    end\n",
    "    our_π/n\n",
    "end"
   ]
  },
  {
   "cell_type": "code",
   "execution_count": 59,
   "metadata": {},
   "outputs": [
    {
     "name": "stdout",
     "output_type": "stream",
     "text": [
      "  0.049509 seconds\n"
     ]
    },
    {
     "data": {
      "text/plain": [
       "3.1415926535895617"
      ]
     },
     "execution_count": 59,
     "metadata": {},
     "output_type": "execute_result"
    }
   ],
   "source": [
    "f_serial() #warmup\n",
    "f_serial()\n",
    "f_serial2(50_000_000) #warmup\n",
    "@time f_serial2(50_000_000)"
   ]
  },
  {
   "cell_type": "code",
   "execution_count": 61,
   "metadata": {},
   "outputs": [
    {
     "data": {
      "text/plain": [
       "f_par (generic function with 1 method)"
      ]
     },
     "execution_count": 61,
     "metadata": {},
     "output_type": "execute_result"
    }
   ],
   "source": [
    "function f_par(n)\n",
    "\n",
    " @mpi_do manager begin\n",
    "    comm = MPI.COMM_WORLD\n",
    "       \n",
    "    s = 0.0\n",
    "    for i = MPI.Comm_rank(comm) + 1 : MPI.Comm_size(comm) : $n \n",
    "        x = (i - .5)/$n \n",
    "        global s += 4/(1 + x^2) \n",
    "    end\n",
    "    mypi = s/$n\n",
    "    our_π = MPI.Reduce(mypi, MPI.SUM, 0, comm)\n",
    "    #if myid==0\n",
    "     #   println(our_π - π) \n",
    "   # end\n",
    "end\n",
    "@fetchfrom 2 our_π   \n",
    "end"
   ]
  },
  {
   "cell_type": "code",
   "execution_count": 65,
   "metadata": {},
   "outputs": [
    {
     "ename": "LoadError",
     "evalue": "TaskFailedException\n\n\u001b[91m    nested task error: \u001b[39mOn worker 5:\n    UndefVarError: `n` not defined in `MPIClusterManagers`\n    Suggestion: check for spelling errors or missing imports.\n    Stacktrace:\n     [1] \u001b[0m\u001b[1m#99\u001b[22m\n    \u001b[90m   @\u001b[39m \u001b[90m~/.julia/packages/MPIClusterManagers/RQVkV/src/\u001b[39m\u001b[90m\u001b[4mmpido.jl:40\u001b[24m\u001b[39m\n     [2] \u001b[0m\u001b[1m#invokelatest#2\u001b[22m\n    \u001b[90m   @\u001b[39m \u001b[90m./\u001b[39m\u001b[90m\u001b[4messentials.jl:1055\u001b[24m\u001b[39m\u001b[90m [inlined]\u001b[39m\n     [3] \u001b[0m\u001b[1minvokelatest\u001b[22m\n    \u001b[90m   @\u001b[39m \u001b[90m./\u001b[39m\u001b[90m\u001b[4messentials.jl:1052\u001b[24m\u001b[39m\n     [4] \u001b[0m\u001b[1m#107\u001b[22m\n    \u001b[90m   @\u001b[39m \u001b[90m~/.julia/juliaup/julia-1.11.1+0.aarch64.apple.darwin14/share/julia/stdlib/v1.11/Distributed/src/\u001b[39m\u001b[90m\u001b[4mprocess_messages.jl:283\u001b[24m\u001b[39m\n     [5] \u001b[0m\u001b[1mrun_work_thunk\u001b[22m\n    \u001b[90m   @\u001b[39m \u001b[90m~/.julia/juliaup/julia-1.11.1+0.aarch64.apple.darwin14/share/julia/stdlib/v1.11/Distributed/src/\u001b[39m\u001b[90m\u001b[4mprocess_messages.jl:70\u001b[24m\u001b[39m\n     [6] \u001b[0m\u001b[1mrun_work_thunk\u001b[22m\n    \u001b[90m   @\u001b[39m \u001b[90m~/.julia/juliaup/julia-1.11.1+0.aarch64.apple.darwin14/share/julia/stdlib/v1.11/Distributed/src/\u001b[39m\u001b[90m\u001b[4mprocess_messages.jl:79\u001b[24m\u001b[39m\n     [7] \u001b[0m\u001b[1m#100\u001b[22m\n    \u001b[90m   @\u001b[39m \u001b[90m~/.julia/juliaup/julia-1.11.1+0.aarch64.apple.darwin14/share/julia/stdlib/v1.11/Distributed/src/\u001b[39m\u001b[90m\u001b[4mprocess_messages.jl:88\u001b[24m\u001b[39m\n    Stacktrace:\n     [1] \u001b[0m\u001b[1mremotecall_fetch\u001b[22m\u001b[0m\u001b[1m(\u001b[22m\u001b[90mf\u001b[39m::\u001b[0mFunction, \u001b[90mw\u001b[39m::\u001b[0mDistributed.Worker, \u001b[90margs\u001b[39m::\u001b[0mFuture; \u001b[90mkwargs\u001b[39m::\u001b[0m@Kwargs\u001b[90m{}\u001b[39m\u001b[0m\u001b[1m)\u001b[22m\n    \u001b[90m   @\u001b[39m \u001b[36mDistributed\u001b[39m \u001b[90m~/.julia/juliaup/julia-1.11.1+0.aarch64.apple.darwin14/share/julia/stdlib/v1.11/Distributed/src/\u001b[39m\u001b[90m\u001b[4mremotecall.jl:465\u001b[24m\u001b[39m\n     [2] \u001b[0m\u001b[1mremotecall_fetch\u001b[22m\u001b[0m\u001b[1m(\u001b[22m\u001b[90mf\u001b[39m::\u001b[0mFunction, \u001b[90mw\u001b[39m::\u001b[0mDistributed.Worker, \u001b[90margs\u001b[39m::\u001b[0mFuture\u001b[0m\u001b[1m)\u001b[22m\n    \u001b[90m   @\u001b[39m \u001b[36mDistributed\u001b[39m \u001b[90m~/.julia/juliaup/julia-1.11.1+0.aarch64.apple.darwin14/share/julia/stdlib/v1.11/Distributed/src/\u001b[39m\u001b[90m\u001b[4mremotecall.jl:454\u001b[24m\u001b[39m\n     [3] \u001b[0m\u001b[1mremotecall_fetch\u001b[22m\n    \u001b[90m   @\u001b[39m \u001b[90m~/.julia/juliaup/julia-1.11.1+0.aarch64.apple.darwin14/share/julia/stdlib/v1.11/Distributed/src/\u001b[39m\u001b[90m\u001b[4mremotecall.jl:492\u001b[24m\u001b[39m\u001b[90m [inlined]\u001b[39m\n     [4] \u001b[0m\u001b[1m(::MPIClusterManagers.var\"#30#33\"{Future})\u001b[22m\u001b[0m\u001b[1m(\u001b[22m\u001b[0m\u001b[1m)\u001b[22m\n    \u001b[90m   @\u001b[39m \u001b[35mMPIClusterManagers\u001b[39m \u001b[90m~/.julia/packages/MPIClusterManagers/RQVkV/src/\u001b[39m\u001b[90m\u001b[4mmpido.jl:23\u001b[24m\u001b[39m\n\n...and 9 more exceptions.\n",
     "output_type": "error",
     "traceback": [
      "TaskFailedException\n\n\u001b[91m    nested task error: \u001b[39mOn worker 5:\n    UndefVarError: `n` not defined in `MPIClusterManagers`\n    Suggestion: check for spelling errors or missing imports.\n    Stacktrace:\n     [1] \u001b[0m\u001b[1m#99\u001b[22m\n    \u001b[90m   @\u001b[39m \u001b[90m~/.julia/packages/MPIClusterManagers/RQVkV/src/\u001b[39m\u001b[90m\u001b[4mmpido.jl:40\u001b[24m\u001b[39m\n     [2] \u001b[0m\u001b[1m#invokelatest#2\u001b[22m\n    \u001b[90m   @\u001b[39m \u001b[90m./\u001b[39m\u001b[90m\u001b[4messentials.jl:1055\u001b[24m\u001b[39m\u001b[90m [inlined]\u001b[39m\n     [3] \u001b[0m\u001b[1minvokelatest\u001b[22m\n    \u001b[90m   @\u001b[39m \u001b[90m./\u001b[39m\u001b[90m\u001b[4messentials.jl:1052\u001b[24m\u001b[39m\n     [4] \u001b[0m\u001b[1m#107\u001b[22m\n    \u001b[90m   @\u001b[39m \u001b[90m~/.julia/juliaup/julia-1.11.1+0.aarch64.apple.darwin14/share/julia/stdlib/v1.11/Distributed/src/\u001b[39m\u001b[90m\u001b[4mprocess_messages.jl:283\u001b[24m\u001b[39m\n     [5] \u001b[0m\u001b[1mrun_work_thunk\u001b[22m\n    \u001b[90m   @\u001b[39m \u001b[90m~/.julia/juliaup/julia-1.11.1+0.aarch64.apple.darwin14/share/julia/stdlib/v1.11/Distributed/src/\u001b[39m\u001b[90m\u001b[4mprocess_messages.jl:70\u001b[24m\u001b[39m\n     [6] \u001b[0m\u001b[1mrun_work_thunk\u001b[22m\n    \u001b[90m   @\u001b[39m \u001b[90m~/.julia/juliaup/julia-1.11.1+0.aarch64.apple.darwin14/share/julia/stdlib/v1.11/Distributed/src/\u001b[39m\u001b[90m\u001b[4mprocess_messages.jl:79\u001b[24m\u001b[39m\n     [7] \u001b[0m\u001b[1m#100\u001b[22m\n    \u001b[90m   @\u001b[39m \u001b[90m~/.julia/juliaup/julia-1.11.1+0.aarch64.apple.darwin14/share/julia/stdlib/v1.11/Distributed/src/\u001b[39m\u001b[90m\u001b[4mprocess_messages.jl:88\u001b[24m\u001b[39m\n    Stacktrace:\n     [1] \u001b[0m\u001b[1mremotecall_fetch\u001b[22m\u001b[0m\u001b[1m(\u001b[22m\u001b[90mf\u001b[39m::\u001b[0mFunction, \u001b[90mw\u001b[39m::\u001b[0mDistributed.Worker, \u001b[90margs\u001b[39m::\u001b[0mFuture; \u001b[90mkwargs\u001b[39m::\u001b[0m@Kwargs\u001b[90m{}\u001b[39m\u001b[0m\u001b[1m)\u001b[22m\n    \u001b[90m   @\u001b[39m \u001b[36mDistributed\u001b[39m \u001b[90m~/.julia/juliaup/julia-1.11.1+0.aarch64.apple.darwin14/share/julia/stdlib/v1.11/Distributed/src/\u001b[39m\u001b[90m\u001b[4mremotecall.jl:465\u001b[24m\u001b[39m\n     [2] \u001b[0m\u001b[1mremotecall_fetch\u001b[22m\u001b[0m\u001b[1m(\u001b[22m\u001b[90mf\u001b[39m::\u001b[0mFunction, \u001b[90mw\u001b[39m::\u001b[0mDistributed.Worker, \u001b[90margs\u001b[39m::\u001b[0mFuture\u001b[0m\u001b[1m)\u001b[22m\n    \u001b[90m   @\u001b[39m \u001b[36mDistributed\u001b[39m \u001b[90m~/.julia/juliaup/julia-1.11.1+0.aarch64.apple.darwin14/share/julia/stdlib/v1.11/Distributed/src/\u001b[39m\u001b[90m\u001b[4mremotecall.jl:454\u001b[24m\u001b[39m\n     [3] \u001b[0m\u001b[1mremotecall_fetch\u001b[22m\n    \u001b[90m   @\u001b[39m \u001b[90m~/.julia/juliaup/julia-1.11.1+0.aarch64.apple.darwin14/share/julia/stdlib/v1.11/Distributed/src/\u001b[39m\u001b[90m\u001b[4mremotecall.jl:492\u001b[24m\u001b[39m\u001b[90m [inlined]\u001b[39m\n     [4] \u001b[0m\u001b[1m(::MPIClusterManagers.var\"#30#33\"{Future})\u001b[22m\u001b[0m\u001b[1m(\u001b[22m\u001b[0m\u001b[1m)\u001b[22m\n    \u001b[90m   @\u001b[39m \u001b[35mMPIClusterManagers\u001b[39m \u001b[90m~/.julia/packages/MPIClusterManagers/RQVkV/src/\u001b[39m\u001b[90m\u001b[4mmpido.jl:23\u001b[24m\u001b[39m\n\n...and 9 more exceptions.\n",
      "",
      "Stacktrace:",
      " [1] sync_end(c::Channel{Any})",
      "   @ Base ./task.jl:466",
      " [2] macro expansion",
      "   @ ./task.jl:499 [inlined]",
      " [3] mpi_do(mgr::MPIWorkerManager, expr::Function)",
      "   @ MPIClusterManagers ~/.julia/packages/MPIClusterManagers/RQVkV/src/mpido.jl:20",
      " [4] macro expansion",
      "   @ ~/.julia/packages/MPIClusterManagers/RQVkV/src/mpido.jl:41 [inlined]",
      " [5] f_par(n::Int64)",
      "   @ Main ./In[61]:3",
      " [6] top-level scope",
      "   @ In[65]:17"
     ]
    }
   ],
   "source": [
    "@mpi_do manager function _pi_sum_par(n)\n",
    "    comm = MPI.COMM_WORLD\n",
    "\n",
    "    s = 0.0\n",
    "    for i = MPI.Comm_rank(comm) + 1 : MPI.Comm_size(comm) : n\n",
    "        x = (i - .5)/n \n",
    "        s += 4/(1 + x^2) \n",
    "    end\n",
    "    mypi = s/n\n",
    "    our_π = MPI.Reduce(mypi, MPI.SUM, 0, comm)\n",
    "    return our_π\n",
    "end\n",
    "function f_par2(n)\n",
    "    @mpi_do manager tmp = _pi_sum_par($n)\n",
    "    @fetchfrom 2 tmp\n",
    "end\n",
    "f_par(50_000_000) #warmup\n",
    "f_par(50_000_000)\n",
    "f_par2(50_000_000) #warmup\n",
    "@time f_par2(50_000_000)"
   ]
  },
  {
   "cell_type": "code",
   "execution_count": 16,
   "metadata": {},
   "outputs": [
    {
     "data": {
      "text/plain": [
       "π = 3.1415926535897..."
      ]
     },
     "execution_count": 16,
     "metadata": {},
     "output_type": "execute_result"
    }
   ],
   "source": [
    "π"
   ]
  },
  {
   "cell_type": "code",
   "execution_count": 66,
   "metadata": {},
   "outputs": [
    {
     "ename": "LoadError",
     "evalue": "TaskFailedException\n\n\u001b[91m    nested task error: \u001b[39mOn worker 5:\n    UndefVarError: `n` not defined in `MPIClusterManagers`\n    Suggestion: check for spelling errors or missing imports.\n    Stacktrace:\n     [1] \u001b[0m\u001b[1m#115\u001b[22m\n    \u001b[90m   @\u001b[39m \u001b[90m~/.julia/packages/MPIClusterManagers/RQVkV/src/\u001b[39m\u001b[90m\u001b[4mmpido.jl:40\u001b[24m\u001b[39m\n     [2] \u001b[0m\u001b[1m#invokelatest#2\u001b[22m\n    \u001b[90m   @\u001b[39m \u001b[90m./\u001b[39m\u001b[90m\u001b[4messentials.jl:1055\u001b[24m\u001b[39m\u001b[90m [inlined]\u001b[39m\n     [3] \u001b[0m\u001b[1minvokelatest\u001b[22m\n    \u001b[90m   @\u001b[39m \u001b[90m./\u001b[39m\u001b[90m\u001b[4messentials.jl:1052\u001b[24m\u001b[39m\n     [4] \u001b[0m\u001b[1m#107\u001b[22m\n    \u001b[90m   @\u001b[39m \u001b[90m~/.julia/juliaup/julia-1.11.1+0.aarch64.apple.darwin14/share/julia/stdlib/v1.11/Distributed/src/\u001b[39m\u001b[90m\u001b[4mprocess_messages.jl:283\u001b[24m\u001b[39m\n     [5] \u001b[0m\u001b[1mrun_work_thunk\u001b[22m\n    \u001b[90m   @\u001b[39m \u001b[90m~/.julia/juliaup/julia-1.11.1+0.aarch64.apple.darwin14/share/julia/stdlib/v1.11/Distributed/src/\u001b[39m\u001b[90m\u001b[4mprocess_messages.jl:70\u001b[24m\u001b[39m\n     [6] \u001b[0m\u001b[1mrun_work_thunk\u001b[22m\n    \u001b[90m   @\u001b[39m \u001b[90m~/.julia/juliaup/julia-1.11.1+0.aarch64.apple.darwin14/share/julia/stdlib/v1.11/Distributed/src/\u001b[39m\u001b[90m\u001b[4mprocess_messages.jl:79\u001b[24m\u001b[39m\n     [7] \u001b[0m\u001b[1m#100\u001b[22m\n    \u001b[90m   @\u001b[39m \u001b[90m~/.julia/juliaup/julia-1.11.1+0.aarch64.apple.darwin14/share/julia/stdlib/v1.11/Distributed/src/\u001b[39m\u001b[90m\u001b[4mprocess_messages.jl:88\u001b[24m\u001b[39m\n    Stacktrace:\n     [1] \u001b[0m\u001b[1mremotecall_fetch\u001b[22m\u001b[0m\u001b[1m(\u001b[22m\u001b[90mf\u001b[39m::\u001b[0mFunction, \u001b[90mw\u001b[39m::\u001b[0mDistributed.Worker, \u001b[90margs\u001b[39m::\u001b[0mFuture; \u001b[90mkwargs\u001b[39m::\u001b[0m@Kwargs\u001b[90m{}\u001b[39m\u001b[0m\u001b[1m)\u001b[22m\n    \u001b[90m   @\u001b[39m \u001b[36mDistributed\u001b[39m \u001b[90m~/.julia/juliaup/julia-1.11.1+0.aarch64.apple.darwin14/share/julia/stdlib/v1.11/Distributed/src/\u001b[39m\u001b[90m\u001b[4mremotecall.jl:465\u001b[24m\u001b[39m\n     [2] \u001b[0m\u001b[1mremotecall_fetch\u001b[22m\u001b[0m\u001b[1m(\u001b[22m\u001b[90mf\u001b[39m::\u001b[0mFunction, \u001b[90mw\u001b[39m::\u001b[0mDistributed.Worker, \u001b[90margs\u001b[39m::\u001b[0mFuture\u001b[0m\u001b[1m)\u001b[22m\n    \u001b[90m   @\u001b[39m \u001b[36mDistributed\u001b[39m \u001b[90m~/.julia/juliaup/julia-1.11.1+0.aarch64.apple.darwin14/share/julia/stdlib/v1.11/Distributed/src/\u001b[39m\u001b[90m\u001b[4mremotecall.jl:454\u001b[24m\u001b[39m\n     [3] \u001b[0m\u001b[1mremotecall_fetch\u001b[22m\n    \u001b[90m   @\u001b[39m \u001b[90m~/.julia/juliaup/julia-1.11.1+0.aarch64.apple.darwin14/share/julia/stdlib/v1.11/Distributed/src/\u001b[39m\u001b[90m\u001b[4mremotecall.jl:492\u001b[24m\u001b[39m\u001b[90m [inlined]\u001b[39m\n     [4] \u001b[0m\u001b[1m(::MPIClusterManagers.var\"#30#33\"{Future})\u001b[22m\u001b[0m\u001b[1m(\u001b[22m\u001b[0m\u001b[1m)\u001b[22m\n    \u001b[90m   @\u001b[39m \u001b[35mMPIClusterManagers\u001b[39m \u001b[90m~/.julia/packages/MPIClusterManagers/RQVkV/src/\u001b[39m\u001b[90m\u001b[4mmpido.jl:23\u001b[24m\u001b[39m\n\n...and 9 more exceptions.\n",
     "output_type": "error",
     "traceback": [
      "TaskFailedException\n\n\u001b[91m    nested task error: \u001b[39mOn worker 5:\n    UndefVarError: `n` not defined in `MPIClusterManagers`\n    Suggestion: check for spelling errors or missing imports.\n    Stacktrace:\n     [1] \u001b[0m\u001b[1m#115\u001b[22m\n    \u001b[90m   @\u001b[39m \u001b[90m~/.julia/packages/MPIClusterManagers/RQVkV/src/\u001b[39m\u001b[90m\u001b[4mmpido.jl:40\u001b[24m\u001b[39m\n     [2] \u001b[0m\u001b[1m#invokelatest#2\u001b[22m\n    \u001b[90m   @\u001b[39m \u001b[90m./\u001b[39m\u001b[90m\u001b[4messentials.jl:1055\u001b[24m\u001b[39m\u001b[90m [inlined]\u001b[39m\n     [3] \u001b[0m\u001b[1minvokelatest\u001b[22m\n    \u001b[90m   @\u001b[39m \u001b[90m./\u001b[39m\u001b[90m\u001b[4messentials.jl:1052\u001b[24m\u001b[39m\n     [4] \u001b[0m\u001b[1m#107\u001b[22m\n    \u001b[90m   @\u001b[39m \u001b[90m~/.julia/juliaup/julia-1.11.1+0.aarch64.apple.darwin14/share/julia/stdlib/v1.11/Distributed/src/\u001b[39m\u001b[90m\u001b[4mprocess_messages.jl:283\u001b[24m\u001b[39m\n     [5] \u001b[0m\u001b[1mrun_work_thunk\u001b[22m\n    \u001b[90m   @\u001b[39m \u001b[90m~/.julia/juliaup/julia-1.11.1+0.aarch64.apple.darwin14/share/julia/stdlib/v1.11/Distributed/src/\u001b[39m\u001b[90m\u001b[4mprocess_messages.jl:70\u001b[24m\u001b[39m\n     [6] \u001b[0m\u001b[1mrun_work_thunk\u001b[22m\n    \u001b[90m   @\u001b[39m \u001b[90m~/.julia/juliaup/julia-1.11.1+0.aarch64.apple.darwin14/share/julia/stdlib/v1.11/Distributed/src/\u001b[39m\u001b[90m\u001b[4mprocess_messages.jl:79\u001b[24m\u001b[39m\n     [7] \u001b[0m\u001b[1m#100\u001b[22m\n    \u001b[90m   @\u001b[39m \u001b[90m~/.julia/juliaup/julia-1.11.1+0.aarch64.apple.darwin14/share/julia/stdlib/v1.11/Distributed/src/\u001b[39m\u001b[90m\u001b[4mprocess_messages.jl:88\u001b[24m\u001b[39m\n    Stacktrace:\n     [1] \u001b[0m\u001b[1mremotecall_fetch\u001b[22m\u001b[0m\u001b[1m(\u001b[22m\u001b[90mf\u001b[39m::\u001b[0mFunction, \u001b[90mw\u001b[39m::\u001b[0mDistributed.Worker, \u001b[90margs\u001b[39m::\u001b[0mFuture; \u001b[90mkwargs\u001b[39m::\u001b[0m@Kwargs\u001b[90m{}\u001b[39m\u001b[0m\u001b[1m)\u001b[22m\n    \u001b[90m   @\u001b[39m \u001b[36mDistributed\u001b[39m \u001b[90m~/.julia/juliaup/julia-1.11.1+0.aarch64.apple.darwin14/share/julia/stdlib/v1.11/Distributed/src/\u001b[39m\u001b[90m\u001b[4mremotecall.jl:465\u001b[24m\u001b[39m\n     [2] \u001b[0m\u001b[1mremotecall_fetch\u001b[22m\u001b[0m\u001b[1m(\u001b[22m\u001b[90mf\u001b[39m::\u001b[0mFunction, \u001b[90mw\u001b[39m::\u001b[0mDistributed.Worker, \u001b[90margs\u001b[39m::\u001b[0mFuture\u001b[0m\u001b[1m)\u001b[22m\n    \u001b[90m   @\u001b[39m \u001b[36mDistributed\u001b[39m \u001b[90m~/.julia/juliaup/julia-1.11.1+0.aarch64.apple.darwin14/share/julia/stdlib/v1.11/Distributed/src/\u001b[39m\u001b[90m\u001b[4mremotecall.jl:454\u001b[24m\u001b[39m\n     [3] \u001b[0m\u001b[1mremotecall_fetch\u001b[22m\n    \u001b[90m   @\u001b[39m \u001b[90m~/.julia/juliaup/julia-1.11.1+0.aarch64.apple.darwin14/share/julia/stdlib/v1.11/Distributed/src/\u001b[39m\u001b[90m\u001b[4mremotecall.jl:492\u001b[24m\u001b[39m\u001b[90m [inlined]\u001b[39m\n     [4] \u001b[0m\u001b[1m(::MPIClusterManagers.var\"#30#33\"{Future})\u001b[22m\u001b[0m\u001b[1m(\u001b[22m\u001b[0m\u001b[1m)\u001b[22m\n    \u001b[90m   @\u001b[39m \u001b[35mMPIClusterManagers\u001b[39m \u001b[90m~/.julia/packages/MPIClusterManagers/RQVkV/src/\u001b[39m\u001b[90m\u001b[4mmpido.jl:23\u001b[24m\u001b[39m\n\n...and 9 more exceptions.\n",
      "",
      "Stacktrace:",
      " [1] sync_end(c::Channel{Any})",
      "   @ Base ./task.jl:466",
      " [2] macro expansion",
      "   @ ./task.jl:499 [inlined]",
      " [3] mpi_do(mgr::MPIWorkerManager, expr::Function)",
      "   @ MPIClusterManagers ~/.julia/packages/MPIClusterManagers/RQVkV/src/mpido.jl:20",
      " [4] macro expansion",
      "   @ ~/.julia/packages/MPIClusterManagers/RQVkV/src/mpido.jl:41 [inlined]",
      " [5] f_par2(n::Int64)",
      "   @ Main ./In[65]:14",
      " [6] #119",
      "   @ ./none:0 [inlined]",
      " [7] iterate",
      "   @ ./generator.jl:48 [inlined]",
      " [8] collect(itr::Base.Generator{UnitRange{Int64}, var\"#119#120\"})",
      "   @ Base ./array.jl:780",
      " [9] top-level scope",
      "   @ In[66]:1"
     ]
    }
   ],
   "source": [
    "[f_par2(10^k) for k=3:9] .- π"
   ]
  },
  {
   "cell_type": "code",
   "execution_count": 67,
   "metadata": {},
   "outputs": [
    {
     "ename": "LoadError",
     "evalue": "ArgumentError: Package DistributedArrays not found in current path.\n- Run `import Pkg; Pkg.add(\"DistributedArrays\")` to install the DistributedArrays package.",
     "output_type": "error",
     "traceback": [
      "ArgumentError: Package DistributedArrays not found in current path.\n- Run `import Pkg; Pkg.add(\"DistributedArrays\")` to install the DistributedArrays package.",
      "",
      "Stacktrace:",
      " [1] macro expansion",
      "   @ ./loading.jl:2223 [inlined]",
      " [2] macro expansion",
      "   @ ./lock.jl:273 [inlined]",
      " [3] __require(into::Module, mod::Symbol)",
      "   @ Base ./loading.jl:2198",
      " [4] #invoke_in_world#3",
      "   @ ./essentials.jl:1089 [inlined]",
      " [5] invoke_in_world",
      "   @ ./essentials.jl:1086 [inlined]",
      " [6] require(into::Module, mod::Symbol)",
      "   @ Base ./loading.jl:2191"
     ]
    }
   ],
   "source": [
    "using DistributedArrays"
   ]
  },
  {
   "cell_type": "code",
   "execution_count": 67,
   "metadata": {},
   "outputs": [],
   "source": [
    "using Elemental\n",
    "using LinearAlgebra"
   ]
  },
  {
   "cell_type": "code",
   "execution_count": 65,
   "metadata": {},
   "outputs": [],
   "source": [
    "A = drandn(1000, 800);"
   ]
  },
  {
   "cell_type": "code",
   "execution_count": 68,
   "metadata": {},
   "outputs": [
    {
     "data": {
      "text/plain": [
       "800×1 DArray{Float64,2,Array{Float64,2}}:\n",
       " 59.7715702168605   \n",
       " 59.496075555258884 \n",
       " 59.04585265227774  \n",
       " 58.87963945925137  \n",
       " 58.602996778644055 \n",
       " 58.24142861506018  \n",
       " 57.95876505405129  \n",
       " 57.72555531429163  \n",
       " 57.6616153792119   \n",
       " 57.50109958680264  \n",
       " 57.30636730358922  \n",
       " 57.234205186637254 \n",
       " 57.05905338286139  \n",
       "  ⋮                 \n",
       "  4.52099185543084  \n",
       "  4.497618544387572 \n",
       "  4.311303886910574 \n",
       "  4.287312503144409 \n",
       "  4.231855977271004 \n",
       "  4.0521396338209765\n",
       "  3.925727382976595 \n",
       "  3.8515802245832838\n",
       "  3.8152052520442   \n",
       "  3.646071383932354 \n",
       "  3.5329358075557353\n",
       "  3.4800501933452885"
      ]
     },
     "execution_count": 68,
     "metadata": {},
     "output_type": "execute_result"
    }
   ],
   "source": [
    "svdvals(A)"
   ]
  },
  {
   "cell_type": "code",
   "execution_count": null,
   "metadata": {},
   "outputs": [],
   "source": [
    "x"
   ]
  }
 ],
 "metadata": {
  "anaconda-cloud": {},
  "kernelspec": {
   "display_name": "Julia 1.11.1",
   "language": "julia",
   "name": "julia-1.11"
  },
  "language_info": {
   "file_extension": ".jl",
   "mimetype": "application/julia",
   "name": "julia",
   "version": "1.11.1"
  }
 },
 "nbformat": 4,
 "nbformat_minor": 1
}
